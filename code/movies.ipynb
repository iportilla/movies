{
 "cells": [
  {
   "cell_type": "code",
   "execution_count": 1,
   "metadata": {},
   "outputs": [
    {
     "name": "stdout",
     "output_type": "stream",
     "text": [
      "Requirement already satisfied: neo4j in /Users/jportilla/anaconda3/envs/3.11/lib/python3.11/site-packages (5.25.0)\n",
      "Requirement already satisfied: pytz in /Users/jportilla/anaconda3/envs/3.11/lib/python3.11/site-packages (from neo4j) (2024.1)\n"
     ]
    }
   ],
   "source": [
    "#see\n",
    "\n",
    "!pip install neo4j"
   ]
  },
  {
   "cell_type": "code",
   "execution_count": 14,
   "metadata": {},
   "outputs": [
    {
     "name": "stdout",
     "output_type": "stream",
     "text": [
      "Requirement already satisfied: graphdatascience in /Users/jportilla/anaconda3/envs/3.11/lib/python3.11/site-packages (1.12)\n",
      "Requirement already satisfied: multimethod<2.0,>=1.0 in /Users/jportilla/anaconda3/envs/3.11/lib/python3.11/site-packages (from graphdatascience) (1.12)\n",
      "Requirement already satisfied: neo4j<6.0,>=4.4.12 in /Users/jportilla/anaconda3/envs/3.11/lib/python3.11/site-packages (from graphdatascience) (5.25.0)\n",
      "Requirement already satisfied: numpy<2.0 in /Users/jportilla/anaconda3/envs/3.11/lib/python3.11/site-packages (from graphdatascience) (1.26.4)\n",
      "Requirement already satisfied: pandas<3.0,>=1.0 in /Users/jportilla/anaconda3/envs/3.11/lib/python3.11/site-packages (from graphdatascience) (2.1.4)\n",
      "Requirement already satisfied: pyarrow<17.0,>=14.0.1 in /Users/jportilla/anaconda3/envs/3.11/lib/python3.11/site-packages (from graphdatascience) (16.0.0)\n",
      "Requirement already satisfied: textdistance<5.0,>=4.0 in /Users/jportilla/anaconda3/envs/3.11/lib/python3.11/site-packages (from graphdatascience) (4.6.3)\n",
      "Requirement already satisfied: tqdm<5.0,>=4.0 in /Users/jportilla/anaconda3/envs/3.11/lib/python3.11/site-packages (from graphdatascience) (4.66.2)\n",
      "Requirement already satisfied: typing-extensions<5.0,>=4.0 in /Users/jportilla/anaconda3/envs/3.11/lib/python3.11/site-packages (from graphdatascience) (4.12.2)\n",
      "Requirement already satisfied: requests in /Users/jportilla/anaconda3/envs/3.11/lib/python3.11/site-packages (from graphdatascience) (2.32.3)\n",
      "Requirement already satisfied: pytz in /Users/jportilla/anaconda3/envs/3.11/lib/python3.11/site-packages (from neo4j<6.0,>=4.4.12->graphdatascience) (2024.1)\n",
      "Requirement already satisfied: python-dateutil>=2.8.2 in /Users/jportilla/anaconda3/envs/3.11/lib/python3.11/site-packages (from pandas<3.0,>=1.0->graphdatascience) (2.9.0.post0)\n",
      "Requirement already satisfied: tzdata>=2022.1 in /Users/jportilla/anaconda3/envs/3.11/lib/python3.11/site-packages (from pandas<3.0,>=1.0->graphdatascience) (2024.1)\n",
      "Requirement already satisfied: charset-normalizer<4,>=2 in /Users/jportilla/anaconda3/envs/3.11/lib/python3.11/site-packages (from requests->graphdatascience) (3.3.2)\n",
      "Requirement already satisfied: idna<4,>=2.5 in /Users/jportilla/anaconda3/envs/3.11/lib/python3.11/site-packages (from requests->graphdatascience) (2.10)\n",
      "Requirement already satisfied: urllib3<3,>=1.21.1 in /Users/jportilla/anaconda3/envs/3.11/lib/python3.11/site-packages (from requests->graphdatascience) (2.1.0)\n",
      "Requirement already satisfied: certifi>=2017.4.17 in /Users/jportilla/anaconda3/envs/3.11/lib/python3.11/site-packages (from requests->graphdatascience) (2024.2.2)\n",
      "Requirement already satisfied: six>=1.5 in /Users/jportilla/anaconda3/envs/3.11/lib/python3.11/site-packages (from python-dateutil>=2.8.2->pandas<3.0,>=1.0->graphdatascience) (1.16.0)\n"
     ]
    }
   ],
   "source": [
    "# Install a package using pip within a Jupyter Notebook\n",
    "!pip install graphdatascience"
   ]
  },
  {
   "cell_type": "code",
   "execution_count": 3,
   "metadata": {},
   "outputs": [],
   "source": [
    "import pandas as pd\n",
    "import numpy as np"
   ]
  },
  {
   "cell_type": "code",
   "execution_count": 1,
   "metadata": {},
   "outputs": [],
   "source": [
    "#read csv to dataframe\n",
    "import pandas as pd\n",
    "FILE = 'movies_export.csv'\n",
    "df = pd.read_csv(FILE)"
   ]
  },
  {
   "cell_type": "code",
   "execution_count": 2,
   "metadata": {},
   "outputs": [
    {
     "data": {
      "text/html": [
       "<div>\n",
       "<style scoped>\n",
       "    .dataframe tbody tr th:only-of-type {\n",
       "        vertical-align: middle;\n",
       "    }\n",
       "\n",
       "    .dataframe tbody tr th {\n",
       "        vertical-align: top;\n",
       "    }\n",
       "\n",
       "    .dataframe thead th {\n",
       "        text-align: right;\n",
       "    }\n",
       "</style>\n",
       "<table border=\"1\" class=\"dataframe\">\n",
       "  <thead>\n",
       "    <tr style=\"text-align: right;\">\n",
       "      <th></th>\n",
       "      <th>movieId</th>\n",
       "      <th>title</th>\n",
       "      <th>avgVote</th>\n",
       "      <th>releaseYear</th>\n",
       "      <th>tagline</th>\n",
       "      <th>genres</th>\n",
       "      <th>personType</th>\n",
       "      <th>personId</th>\n",
       "      <th>name</th>\n",
       "      <th>birthYear</th>\n",
       "      <th>deathYear</th>\n",
       "      <th>characters</th>\n",
       "    </tr>\n",
       "  </thead>\n",
       "  <tbody>\n",
       "    <tr>\n",
       "      <th>0</th>\n",
       "      <td>189</td>\n",
       "      <td>Sin City: A Dame to Kill For</td>\n",
       "      <td>6.9</td>\n",
       "      <td>2014</td>\n",
       "      <td>There is no justice without sin.</td>\n",
       "      <td>Action:Crime:Drama:Thriller</td>\n",
       "      <td>ACTOR</td>\n",
       "      <td>2295</td>\n",
       "      <td>Mickey Rourke</td>\n",
       "      <td>1952</td>\n",
       "      <td>0</td>\n",
       "      <td>Marv</td>\n",
       "    </tr>\n",
       "    <tr>\n",
       "      <th>1</th>\n",
       "      <td>189</td>\n",
       "      <td>Sin City: A Dame to Kill For</td>\n",
       "      <td>6.9</td>\n",
       "      <td>2014</td>\n",
       "      <td>There is no justice without sin.</td>\n",
       "      <td>Action:Crime:Drama:Thriller</td>\n",
       "      <td>ACTOR</td>\n",
       "      <td>56731</td>\n",
       "      <td>Jessica Alba</td>\n",
       "      <td>1981</td>\n",
       "      <td>0</td>\n",
       "      <td>Nancy</td>\n",
       "    </tr>\n",
       "    <tr>\n",
       "      <th>2</th>\n",
       "      <td>189</td>\n",
       "      <td>Sin City: A Dame to Kill For</td>\n",
       "      <td>6.9</td>\n",
       "      <td>2014</td>\n",
       "      <td>There is no justice without sin.</td>\n",
       "      <td>Action:Crime:Drama:Thriller</td>\n",
       "      <td>ACTOR</td>\n",
       "      <td>16851</td>\n",
       "      <td>Josh Brolin</td>\n",
       "      <td>1968</td>\n",
       "      <td>0</td>\n",
       "      <td>Dwight</td>\n",
       "    </tr>\n",
       "    <tr>\n",
       "      <th>3</th>\n",
       "      <td>189</td>\n",
       "      <td>Sin City: A Dame to Kill For</td>\n",
       "      <td>6.9</td>\n",
       "      <td>2014</td>\n",
       "      <td>There is no justice without sin.</td>\n",
       "      <td>Action:Crime:Drama:Thriller</td>\n",
       "      <td>ACTOR</td>\n",
       "      <td>24045</td>\n",
       "      <td>Joseph Gordon-Levitt</td>\n",
       "      <td>1981</td>\n",
       "      <td>0</td>\n",
       "      <td>Johnny</td>\n",
       "    </tr>\n",
       "    <tr>\n",
       "      <th>4</th>\n",
       "      <td>189</td>\n",
       "      <td>Sin City: A Dame to Kill For</td>\n",
       "      <td>6.9</td>\n",
       "      <td>2014</td>\n",
       "      <td>There is no justice without sin.</td>\n",
       "      <td>Action:Crime:Drama:Thriller</td>\n",
       "      <td>ACTOR</td>\n",
       "      <td>5916</td>\n",
       "      <td>Rosario Dawson</td>\n",
       "      <td>1979</td>\n",
       "      <td>0</td>\n",
       "      <td>Gail</td>\n",
       "    </tr>\n",
       "  </tbody>\n",
       "</table>\n",
       "</div>"
      ],
      "text/plain": [
       "   movieId                         title  avgVote  releaseYear  \\\n",
       "0      189  Sin City: A Dame to Kill For      6.9         2014   \n",
       "1      189  Sin City: A Dame to Kill For      6.9         2014   \n",
       "2      189  Sin City: A Dame to Kill For      6.9         2014   \n",
       "3      189  Sin City: A Dame to Kill For      6.9         2014   \n",
       "4      189  Sin City: A Dame to Kill For      6.9         2014   \n",
       "\n",
       "                            tagline                       genres personType  \\\n",
       "0  There is no justice without sin.  Action:Crime:Drama:Thriller      ACTOR   \n",
       "1  There is no justice without sin.  Action:Crime:Drama:Thriller      ACTOR   \n",
       "2  There is no justice without sin.  Action:Crime:Drama:Thriller      ACTOR   \n",
       "3  There is no justice without sin.  Action:Crime:Drama:Thriller      ACTOR   \n",
       "4  There is no justice without sin.  Action:Crime:Drama:Thriller      ACTOR   \n",
       "\n",
       "   personId                  name  birthYear  deathYear characters  \n",
       "0      2295         Mickey Rourke       1952          0       Marv  \n",
       "1     56731          Jessica Alba       1981          0      Nancy  \n",
       "2     16851           Josh Brolin       1968          0     Dwight  \n",
       "3     24045  Joseph Gordon-Levitt       1981          0     Johnny  \n",
       "4      5916        Rosario Dawson       1979          0       Gail  "
      ]
     },
     "execution_count": 2,
     "metadata": {},
     "output_type": "execute_result"
    }
   ],
   "source": [
    "df.head()"
   ]
  },
  {
   "cell_type": "code",
   "execution_count": null,
   "metadata": {},
   "outputs": [],
   "source": [
    "NEO4J_USERNAME = \"neo4j\"\n",
    "NEO4J_PASSWORD = \"{password}\"\n",
    "NEO4J_URI = \"bolt://localhost:7687\""
   ]
  },
  {
   "cell_type": "code",
   "execution_count": 10,
   "metadata": {},
   "outputs": [
    {
     "name": "stderr",
     "output_type": "stream",
     "text": [
      "Unable to connect to the Neo4j DBMS. Trying again...\n",
      "Unable to connect to the Neo4j DBMS. Trying again...\n"
     ]
    }
   ],
   "source": [
    "from graphdatascience import GraphDataScience\n",
    "\n",
    "gds = GraphDataScience(\n",
    "    NEO4J_URI,\n",
    "    auth=(NEO4J_USERNAME, NEO4J_PASSWORD) #,\n",
    "    # aura_ds=False\n",
    ")\n",
    "gds.set_database('neo4j')"
   ]
  },
  {
   "cell_type": "code",
   "execution_count": 11,
   "metadata": {},
   "outputs": [
    {
     "name": "stdout",
     "output_type": "stream",
     "text": [
      "2.11.0\n"
     ]
    }
   ],
   "source": [
    "print(gds.version())"
   ]
  },
  {
   "cell_type": "code",
   "execution_count": 13,
   "metadata": {},
   "outputs": [],
   "source": [
    "\n",
    "\n",
    "# gds.run_cypher('CREATE CONSTRAINT FOR (n:Movie) REQUIRE (n.title) IS UNIQUE')\n",
    "# gds.run_cypher('CREATE CONSTRAINT FOR (n:Person) REQUIRE (n.name) IS UNIQUE')\n"
   ]
  },
  {
   "cell_type": "code",
   "execution_count": 113,
   "metadata": {},
   "outputs": [
    {
     "ename": "ClientError",
     "evalue": "{code: Neo.ClientError.Schema.EquivalentSchemaRuleAlreadyExists} {message: An equivalent index already exists, 'Index( id=6, name='index_65fd4c2a', type='RANGE', schema=(:Movie {releaseYear}), indexProvider='range-1.0' )'.}",
     "output_type": "error",
     "traceback": [
      "\u001b[0;31m---------------------------------------------------------------------------\u001b[0m",
      "\u001b[0;31mClientError\u001b[0m                               Traceback (most recent call last)",
      "Cell \u001b[0;32mIn[113], line 2\u001b[0m\n\u001b[1;32m      1\u001b[0m \u001b[38;5;66;03m#CREATE INDEX FOR (m:Movie) ON (m.released)\u001b[39;00m\n\u001b[0;32m----> 2\u001b[0m \u001b[43mgds\u001b[49m\u001b[38;5;241;43m.\u001b[39;49m\u001b[43mrun_cypher\u001b[49m\u001b[43m(\u001b[49m\u001b[38;5;124;43m'\u001b[39;49m\u001b[38;5;124;43mCREATE INDEX FOR (m:Movie) ON (m.releaseYear)\u001b[39;49m\u001b[38;5;124;43m'\u001b[39;49m\u001b[43m)\u001b[49m\n",
      "File \u001b[0;32m~/anaconda3/envs/3.11/lib/python3.11/site-packages/graphdatascience/graph_data_science.py:211\u001b[0m, in \u001b[0;36mGraphDataScience.run_cypher\u001b[0;34m(self, query, params, database)\u001b[0m\n\u001b[1;32m    208\u001b[0m \u001b[38;5;28;01mif\u001b[39;00m \u001b[38;5;28misinstance\u001b[39m(\u001b[38;5;28mself\u001b[39m\u001b[38;5;241m.\u001b[39m_query_runner, ArrowQueryRunner):\n\u001b[1;32m    209\u001b[0m     qr \u001b[38;5;241m=\u001b[39m \u001b[38;5;28mself\u001b[39m\u001b[38;5;241m.\u001b[39m_query_runner\u001b[38;5;241m.\u001b[39mfallback_query_runner()\n\u001b[0;32m--> 211\u001b[0m \u001b[38;5;28;01mreturn\u001b[39;00m \u001b[43mqr\u001b[49m\u001b[38;5;241;43m.\u001b[39;49m\u001b[43mrun_cypher\u001b[49m\u001b[43m(\u001b[49m\u001b[43mquery\u001b[49m\u001b[43m,\u001b[49m\u001b[43m \u001b[49m\u001b[43mparams\u001b[49m\u001b[43m,\u001b[49m\u001b[43m \u001b[49m\u001b[43mdatabase\u001b[49m\u001b[43m,\u001b[49m\u001b[43m \u001b[49m\u001b[38;5;28;43;01mFalse\u001b[39;49;00m\u001b[43m)\u001b[49m\n",
      "File \u001b[0;32m~/anaconda3/envs/3.11/lib/python3.11/site-packages/graphdatascience/query_runner/neo4j_query_runner.py:126\u001b[0m, in \u001b[0;36mNeo4jQueryRunner.run_cypher\u001b[0;34m(self, query, params, database, custom_error)\u001b[0m\n\u001b[1;32m    124\u001b[0m         \u001b[38;5;28mself\u001b[39m\u001b[38;5;241m.\u001b[39mhandle_driver_exception(session, e)\n\u001b[1;32m    125\u001b[0m     \u001b[38;5;28;01melse\u001b[39;00m:\n\u001b[0;32m--> 126\u001b[0m         \u001b[38;5;28;01mraise\u001b[39;00m e\n\u001b[1;32m    128\u001b[0m \u001b[38;5;66;03m# Though pandas support may be experimental in the `neo4j` package, it should always\u001b[39;00m\n\u001b[1;32m    129\u001b[0m \u001b[38;5;66;03m# be supported in the `graphdatascience` package.\u001b[39;00m\n\u001b[1;32m    130\u001b[0m warnings\u001b[38;5;241m.\u001b[39mfilterwarnings(\n\u001b[1;32m    131\u001b[0m     \u001b[38;5;124m\"\u001b[39m\u001b[38;5;124mignore\u001b[39m\u001b[38;5;124m\"\u001b[39m,\n\u001b[1;32m    132\u001b[0m     message\u001b[38;5;241m=\u001b[39m\u001b[38;5;124mr\u001b[39m\u001b[38;5;124m\"\u001b[39m\u001b[38;5;124m^pandas support is experimental and might be changed or removed in future versions$\u001b[39m\u001b[38;5;124m\"\u001b[39m,\n\u001b[1;32m    133\u001b[0m )\n",
      "File \u001b[0;32m~/anaconda3/envs/3.11/lib/python3.11/site-packages/graphdatascience/query_runner/neo4j_query_runner.py:121\u001b[0m, in \u001b[0;36mNeo4jQueryRunner.run_cypher\u001b[0;34m(self, query, params, database, custom_error)\u001b[0m\n\u001b[1;32m    119\u001b[0m \u001b[38;5;28;01mwith\u001b[39;00m \u001b[38;5;28mself\u001b[39m\u001b[38;5;241m.\u001b[39m_driver\u001b[38;5;241m.\u001b[39msession(database\u001b[38;5;241m=\u001b[39mdatabase, bookmarks\u001b[38;5;241m=\u001b[39m\u001b[38;5;28mself\u001b[39m\u001b[38;5;241m.\u001b[39mbookmarks()) \u001b[38;5;28;01mas\u001b[39;00m session:\n\u001b[1;32m    120\u001b[0m     \u001b[38;5;28;01mtry\u001b[39;00m:\n\u001b[0;32m--> 121\u001b[0m         result \u001b[38;5;241m=\u001b[39m \u001b[43msession\u001b[49m\u001b[38;5;241;43m.\u001b[39;49m\u001b[43mrun\u001b[49m\u001b[43m(\u001b[49m\u001b[43mquery\u001b[49m\u001b[43m,\u001b[49m\u001b[43m \u001b[49m\u001b[43mparams\u001b[49m\u001b[43m)\u001b[49m\n\u001b[1;32m    122\u001b[0m     \u001b[38;5;28;01mexcept\u001b[39;00m \u001b[38;5;167;01mException\u001b[39;00m \u001b[38;5;28;01mas\u001b[39;00m e:\n\u001b[1;32m    123\u001b[0m         \u001b[38;5;28;01mif\u001b[39;00m custom_error:\n",
      "File \u001b[0;32m~/anaconda3/envs/3.11/lib/python3.11/site-packages/neo4j/_sync/work/session.py:320\u001b[0m, in \u001b[0;36mSession.run\u001b[0;34m(self, query, parameters, **kwargs)\u001b[0m\n\u001b[1;32m    318\u001b[0m bookmarks \u001b[38;5;241m=\u001b[39m \u001b[38;5;28mself\u001b[39m\u001b[38;5;241m.\u001b[39m_get_bookmarks()\n\u001b[1;32m    319\u001b[0m parameters \u001b[38;5;241m=\u001b[39m \u001b[38;5;28mdict\u001b[39m(parameters \u001b[38;5;129;01mor\u001b[39;00m {}, \u001b[38;5;241m*\u001b[39m\u001b[38;5;241m*\u001b[39mkwargs)\n\u001b[0;32m--> 320\u001b[0m \u001b[38;5;28;43mself\u001b[39;49m\u001b[38;5;241;43m.\u001b[39;49m\u001b[43m_auto_result\u001b[49m\u001b[38;5;241;43m.\u001b[39;49m\u001b[43m_run\u001b[49m\u001b[43m(\u001b[49m\n\u001b[1;32m    321\u001b[0m \u001b[43m    \u001b[49m\u001b[43mquery\u001b[49m\u001b[43m,\u001b[49m\n\u001b[1;32m    322\u001b[0m \u001b[43m    \u001b[49m\u001b[43mparameters\u001b[49m\u001b[43m,\u001b[49m\n\u001b[1;32m    323\u001b[0m \u001b[43m    \u001b[49m\u001b[38;5;28;43mself\u001b[39;49m\u001b[38;5;241;43m.\u001b[39;49m\u001b[43m_config\u001b[49m\u001b[38;5;241;43m.\u001b[39;49m\u001b[43mdatabase\u001b[49m\u001b[43m,\u001b[49m\n\u001b[1;32m    324\u001b[0m \u001b[43m    \u001b[49m\u001b[38;5;28;43mself\u001b[39;49m\u001b[38;5;241;43m.\u001b[39;49m\u001b[43m_config\u001b[49m\u001b[38;5;241;43m.\u001b[39;49m\u001b[43mimpersonated_user\u001b[49m\u001b[43m,\u001b[49m\n\u001b[1;32m    325\u001b[0m \u001b[43m    \u001b[49m\u001b[38;5;28;43mself\u001b[39;49m\u001b[38;5;241;43m.\u001b[39;49m\u001b[43m_config\u001b[49m\u001b[38;5;241;43m.\u001b[39;49m\u001b[43mdefault_access_mode\u001b[49m\u001b[43m,\u001b[49m\n\u001b[1;32m    326\u001b[0m \u001b[43m    \u001b[49m\u001b[43mbookmarks\u001b[49m\u001b[43m,\u001b[49m\n\u001b[1;32m    327\u001b[0m \u001b[43m    \u001b[49m\u001b[38;5;28;43mself\u001b[39;49m\u001b[38;5;241;43m.\u001b[39;49m\u001b[43m_config\u001b[49m\u001b[38;5;241;43m.\u001b[39;49m\u001b[43mnotifications_min_severity\u001b[49m\u001b[43m,\u001b[49m\n\u001b[1;32m    328\u001b[0m \u001b[43m    \u001b[49m\u001b[38;5;28;43mself\u001b[39;49m\u001b[38;5;241;43m.\u001b[39;49m\u001b[43m_config\u001b[49m\u001b[38;5;241;43m.\u001b[39;49m\u001b[43mnotifications_disabled_classifications\u001b[49m\u001b[43m,\u001b[49m\n\u001b[1;32m    329\u001b[0m \u001b[43m\u001b[49m\u001b[43m)\u001b[49m\n\u001b[1;32m    331\u001b[0m \u001b[38;5;28;01mreturn\u001b[39;00m \u001b[38;5;28mself\u001b[39m\u001b[38;5;241m.\u001b[39m_auto_result\n",
      "File \u001b[0;32m~/anaconda3/envs/3.11/lib/python3.11/site-packages/neo4j/_sync/work/result.py:231\u001b[0m, in \u001b[0;36mResult._run\u001b[0;34m(self, query, parameters, db, imp_user, access_mode, bookmarks, notifications_min_severity, notifications_disabled_classifications)\u001b[0m\n\u001b[1;32m    229\u001b[0m \u001b[38;5;28mself\u001b[39m\u001b[38;5;241m.\u001b[39m_pull()\n\u001b[1;32m    230\u001b[0m \u001b[38;5;28mself\u001b[39m\u001b[38;5;241m.\u001b[39m_connection\u001b[38;5;241m.\u001b[39msend_all()\n\u001b[0;32m--> 231\u001b[0m \u001b[38;5;28;43mself\u001b[39;49m\u001b[38;5;241;43m.\u001b[39;49m\u001b[43m_attach\u001b[49m\u001b[43m(\u001b[49m\u001b[43m)\u001b[49m\n",
      "File \u001b[0;32m~/anaconda3/envs/3.11/lib/python3.11/site-packages/neo4j/_sync/work/result.py:425\u001b[0m, in \u001b[0;36mResult._attach\u001b[0;34m(self)\u001b[0m\n\u001b[1;32m    423\u001b[0m \u001b[38;5;28;01mif\u001b[39;00m \u001b[38;5;28mself\u001b[39m\u001b[38;5;241m.\u001b[39m_exhausted \u001b[38;5;129;01mis\u001b[39;00m \u001b[38;5;28;01mFalse\u001b[39;00m:\n\u001b[1;32m    424\u001b[0m     \u001b[38;5;28;01mwhile\u001b[39;00m \u001b[38;5;28mself\u001b[39m\u001b[38;5;241m.\u001b[39m_attached \u001b[38;5;129;01mis\u001b[39;00m \u001b[38;5;28;01mFalse\u001b[39;00m:\n\u001b[0;32m--> 425\u001b[0m         \u001b[38;5;28;43mself\u001b[39;49m\u001b[38;5;241;43m.\u001b[39;49m\u001b[43m_connection\u001b[49m\u001b[38;5;241;43m.\u001b[39;49m\u001b[43mfetch_message\u001b[49m\u001b[43m(\u001b[49m\u001b[43m)\u001b[49m\n",
      "File \u001b[0;32m~/anaconda3/envs/3.11/lib/python3.11/site-packages/neo4j/_sync/io/_common.py:181\u001b[0m, in \u001b[0;36mConnectionErrorHandler.__getattr__.<locals>.outer.<locals>.inner\u001b[0;34m(*args, **kwargs)\u001b[0m\n\u001b[1;32m    179\u001b[0m \u001b[38;5;28;01mdef\u001b[39;00m \u001b[38;5;21minner\u001b[39m(\u001b[38;5;241m*\u001b[39margs, \u001b[38;5;241m*\u001b[39m\u001b[38;5;241m*\u001b[39mkwargs):\n\u001b[1;32m    180\u001b[0m     \u001b[38;5;28;01mtry\u001b[39;00m:\n\u001b[0;32m--> 181\u001b[0m         \u001b[43mfunc\u001b[49m\u001b[43m(\u001b[49m\u001b[38;5;241;43m*\u001b[39;49m\u001b[43margs\u001b[49m\u001b[43m,\u001b[49m\u001b[43m \u001b[49m\u001b[38;5;241;43m*\u001b[39;49m\u001b[38;5;241;43m*\u001b[39;49m\u001b[43mkwargs\u001b[49m\u001b[43m)\u001b[49m\n\u001b[1;32m    182\u001b[0m     \u001b[38;5;28;01mexcept\u001b[39;00m (Neo4jError, ServiceUnavailable, SessionExpired) \u001b[38;5;28;01mas\u001b[39;00m exc:\n\u001b[1;32m    183\u001b[0m         \u001b[38;5;28;01massert\u001b[39;00m \u001b[38;5;129;01mnot\u001b[39;00m asyncio\u001b[38;5;241m.\u001b[39miscoroutinefunction(\u001b[38;5;28mself\u001b[39m\u001b[38;5;241m.\u001b[39m__on_error)\n",
      "File \u001b[0;32m~/anaconda3/envs/3.11/lib/python3.11/site-packages/neo4j/_sync/io/_bolt.py:977\u001b[0m, in \u001b[0;36mBolt.fetch_message\u001b[0;34m(self)\u001b[0m\n\u001b[1;32m    973\u001b[0m \u001b[38;5;66;03m# Receive exactly one message\u001b[39;00m\n\u001b[1;32m    974\u001b[0m tag, fields \u001b[38;5;241m=\u001b[39m \u001b[38;5;28mself\u001b[39m\u001b[38;5;241m.\u001b[39minbox\u001b[38;5;241m.\u001b[39mpop(\n\u001b[1;32m    975\u001b[0m     hydration_hooks\u001b[38;5;241m=\u001b[39m\u001b[38;5;28mself\u001b[39m\u001b[38;5;241m.\u001b[39mresponses[\u001b[38;5;241m0\u001b[39m]\u001b[38;5;241m.\u001b[39mhydration_hooks\n\u001b[1;32m    976\u001b[0m )\n\u001b[0;32m--> 977\u001b[0m res \u001b[38;5;241m=\u001b[39m \u001b[38;5;28;43mself\u001b[39;49m\u001b[38;5;241;43m.\u001b[39;49m\u001b[43m_process_message\u001b[49m\u001b[43m(\u001b[49m\u001b[43mtag\u001b[49m\u001b[43m,\u001b[49m\u001b[43m \u001b[49m\u001b[43mfields\u001b[49m\u001b[43m)\u001b[49m\n\u001b[1;32m    978\u001b[0m \u001b[38;5;28mself\u001b[39m\u001b[38;5;241m.\u001b[39midle_since \u001b[38;5;241m=\u001b[39m monotonic()\n\u001b[1;32m    979\u001b[0m \u001b[38;5;28;01mreturn\u001b[39;00m res\n",
      "File \u001b[0;32m~/anaconda3/envs/3.11/lib/python3.11/site-packages/neo4j/_sync/io/_bolt5.py:466\u001b[0m, in \u001b[0;36mBolt5x0._process_message\u001b[0;34m(self, tag, fields)\u001b[0m\n\u001b[1;32m    464\u001b[0m \u001b[38;5;28mself\u001b[39m\u001b[38;5;241m.\u001b[39m_server_state_manager\u001b[38;5;241m.\u001b[39mstate \u001b[38;5;241m=\u001b[39m \u001b[38;5;28mself\u001b[39m\u001b[38;5;241m.\u001b[39mbolt_states\u001b[38;5;241m.\u001b[39mFAILED\n\u001b[1;32m    465\u001b[0m \u001b[38;5;28;01mtry\u001b[39;00m:\n\u001b[0;32m--> 466\u001b[0m     \u001b[43mresponse\u001b[49m\u001b[38;5;241;43m.\u001b[39;49m\u001b[43mon_failure\u001b[49m\u001b[43m(\u001b[49m\u001b[43msummary_metadata\u001b[49m\u001b[43m \u001b[49m\u001b[38;5;129;43;01mor\u001b[39;49;00m\u001b[43m \u001b[49m\u001b[43m{\u001b[49m\u001b[43m}\u001b[49m\u001b[43m)\u001b[49m\n\u001b[1;32m    467\u001b[0m \u001b[38;5;28;01mexcept\u001b[39;00m (ServiceUnavailable, DatabaseUnavailable):\n\u001b[1;32m    468\u001b[0m     \u001b[38;5;28;01mif\u001b[39;00m \u001b[38;5;28mself\u001b[39m\u001b[38;5;241m.\u001b[39mpool:\n",
      "File \u001b[0;32m~/anaconda3/envs/3.11/lib/python3.11/site-packages/neo4j/_sync/io/_common.py:251\u001b[0m, in \u001b[0;36mResponse.on_failure\u001b[0;34m(self, metadata)\u001b[0m\n\u001b[1;32m    249\u001b[0m handler \u001b[38;5;241m=\u001b[39m \u001b[38;5;28mself\u001b[39m\u001b[38;5;241m.\u001b[39mhandlers\u001b[38;5;241m.\u001b[39mget(\u001b[38;5;124m\"\u001b[39m\u001b[38;5;124mon_summary\u001b[39m\u001b[38;5;124m\"\u001b[39m)\n\u001b[1;32m    250\u001b[0m Util\u001b[38;5;241m.\u001b[39mcallback(handler)\n\u001b[0;32m--> 251\u001b[0m \u001b[38;5;28;01mraise\u001b[39;00m Neo4jError\u001b[38;5;241m.\u001b[39mhydrate(\u001b[38;5;241m*\u001b[39m\u001b[38;5;241m*\u001b[39mmetadata)\n",
      "\u001b[0;31mClientError\u001b[0m: {code: Neo.ClientError.Schema.EquivalentSchemaRuleAlreadyExists} {message: An equivalent index already exists, 'Index( id=6, name='index_65fd4c2a', type='RANGE', schema=(:Movie {releaseYear}), indexProvider='range-1.0' )'.}"
     ]
    }
   ],
   "source": [
    "#CREATE INDEX FOR (m:Movie) ON (m.released)\n",
    "gds.run_cypher('CREATE INDEX FOR (m:Movie) ON (m.releaseYear)')"
   ]
  },
  {
   "cell_type": "code",
   "execution_count": 14,
   "metadata": {},
   "outputs": [],
   "source": [
    "movies_entries = df.to_dict(orient='records')"
   ]
  },
  {
   "cell_type": "code",
   "execution_count": 15,
   "metadata": {},
   "outputs": [
    {
     "data": {
      "text/plain": [
       "64018"
      ]
     },
     "execution_count": 15,
     "metadata": {},
     "output_type": "execute_result"
    }
   ],
   "source": [
    "len(movies_entries)"
   ]
  },
  {
   "cell_type": "code",
   "execution_count": 16,
   "metadata": {},
   "outputs": [
    {
     "name": "stdout",
     "output_type": "stream",
     "text": [
      "[{'movieId': 189, 'title': 'Sin City: A Dame to Kill For', 'avgVote': 6.9, 'releaseYear': 2014, 'tagline': 'There is no justice without sin.', 'genres': 'Action:Crime:Drama:Thriller', 'personType': 'ACTOR', 'personId': 2295, 'name': 'Mickey Rourke', 'birthYear': 1952, 'deathYear': 0, 'characters': 'Marv'}, {'movieId': 189, 'title': 'Sin City: A Dame to Kill For', 'avgVote': 6.9, 'releaseYear': 2014, 'tagline': 'There is no justice without sin.', 'genres': 'Action:Crime:Drama:Thriller', 'personType': 'ACTOR', 'personId': 56731, 'name': 'Jessica Alba', 'birthYear': 1981, 'deathYear': 0, 'characters': 'Nancy'}, {'movieId': 189, 'title': 'Sin City: A Dame to Kill For', 'avgVote': 6.9, 'releaseYear': 2014, 'tagline': 'There is no justice without sin.', 'genres': 'Action:Crime:Drama:Thriller', 'personType': 'ACTOR', 'personId': 16851, 'name': 'Josh Brolin', 'birthYear': 1968, 'deathYear': 0, 'characters': 'Dwight'}, {'movieId': 189, 'title': 'Sin City: A Dame to Kill For', 'avgVote': 6.9, 'releaseYear': 2014, 'tagline': 'There is no justice without sin.', 'genres': 'Action:Crime:Drama:Thriller', 'personType': 'ACTOR', 'personId': 24045, 'name': 'Joseph Gordon-Levitt', 'birthYear': 1981, 'deathYear': 0, 'characters': 'Johnny'}, {'movieId': 189, 'title': 'Sin City: A Dame to Kill For', 'avgVote': 6.9, 'releaseYear': 2014, 'tagline': 'There is no justice without sin.', 'genres': 'Action:Crime:Drama:Thriller', 'personType': 'ACTOR', 'personId': 5916, 'name': 'Rosario Dawson', 'birthYear': 1979, 'deathYear': 0, 'characters': 'Gail'}]\n"
     ]
    }
   ],
   "source": [
    "#print first dictionary entry\n",
    "print(movies_entries[0:5])\n",
    "\n",
    "#MATCH (n) DETACH DELETE n"
   ]
  },
  {
   "cell_type": "code",
   "execution_count": 17,
   "metadata": {},
   "outputs": [
    {
     "name": "stdout",
     "output_type": "stream",
     "text": [
      "loaded 1\n",
      "loaded 2\n",
      "loaded 3\n",
      "loaded 4\n",
      "loaded 5\n",
      "loaded 6\n",
      "loaded 7\n",
      "loaded 8\n",
      "loaded 9\n",
      "loaded 10\n",
      "loaded 11\n",
      "loaded 12\n",
      "loaded 13\n",
      "loaded 14\n",
      "loaded 15\n",
      "loaded 16\n",
      "loaded 17\n",
      "loaded 18\n",
      "loaded 19\n",
      "loaded 20\n",
      "loaded 21\n",
      "loaded 22\n",
      "loaded 23\n",
      "loaded 24\n",
      "loaded 25\n",
      "loaded 26\n",
      "loaded 27\n",
      "loaded 28\n",
      "loaded 29\n",
      "loaded 30\n",
      "loaded 31\n",
      "loaded 32\n",
      "loaded 33\n",
      "loaded 34\n",
      "loaded 35\n",
      "loaded 36\n",
      "loaded 37\n",
      "loaded 38\n",
      "loaded 39\n",
      "loaded 40\n",
      "loaded 41\n",
      "loaded 42\n",
      "loaded 43\n",
      "loaded 44\n",
      "loaded 45\n",
      "loaded 46\n",
      "loaded 47\n",
      "loaded 48\n",
      "loaded 49\n",
      "loaded 50\n",
      "loaded 51\n",
      "loaded 52\n",
      "loaded 53\n",
      "loaded 54\n",
      "loaded 55\n",
      "loaded 56\n",
      "loaded 57\n",
      "loaded 58\n",
      "loaded 59\n",
      "loaded 60\n",
      "loaded 61\n",
      "loaded 62\n",
      "loaded 63\n",
      "loaded 64\n",
      "loaded 65\n",
      "loaded 66\n",
      "loaded 67\n",
      "loaded 68\n",
      "loaded 69\n",
      "loaded 70\n",
      "loaded 71\n",
      "loaded 72\n",
      "loaded 73\n",
      "loaded 74\n",
      "loaded 75\n",
      "loaded 76\n",
      "loaded 77\n",
      "loaded 78\n",
      "loaded 79\n",
      "loaded 80\n",
      "loaded 81\n",
      "loaded 82\n",
      "loaded 83\n",
      "loaded 84\n",
      "loaded 85\n",
      "loaded 86\n",
      "loaded 87\n",
      "loaded 88\n",
      "loaded 89\n",
      "loaded 90\n",
      "loaded 91\n",
      "loaded 92\n",
      "loaded 93\n",
      "loaded 94\n",
      "loaded 95\n",
      "loaded 96\n",
      "loaded 97\n",
      "loaded 98\n",
      "loaded 99\n",
      "loaded 100\n",
      "loaded 101\n",
      "loaded 102\n",
      "loaded 103\n",
      "loaded 104\n",
      "loaded 105\n",
      "loaded 106\n",
      "loaded 107\n",
      "loaded 108\n",
      "loaded 109\n",
      "loaded 110\n",
      "loaded 111\n",
      "loaded 112\n",
      "loaded 113\n",
      "loaded 114\n",
      "loaded 115\n",
      "loaded 116\n",
      "loaded 117\n",
      "loaded 118\n",
      "loaded 119\n",
      "loaded 120\n",
      "loaded 121\n",
      "loaded 122\n",
      "loaded 123\n",
      "loaded 124\n",
      "loaded 125\n",
      "loaded 126\n",
      "loaded 127\n",
      "loaded 128\n",
      "loaded 129\n",
      "loaded 130\n",
      "loaded 131\n",
      "loaded 132\n",
      "loaded 133\n",
      "loaded 134\n",
      "loaded 135\n",
      "loaded 136\n",
      "loaded 137\n",
      "loaded 138\n",
      "loaded 139\n",
      "loaded 140\n",
      "loaded 141\n",
      "loaded 142\n",
      "loaded 143\n",
      "loaded 144\n",
      "loaded 145\n",
      "loaded 146\n",
      "loaded 147\n",
      "loaded 148\n",
      "loaded 149\n",
      "loaded 150\n",
      "loaded 151\n",
      "loaded 152\n",
      "loaded 153\n",
      "loaded 154\n",
      "loaded 155\n",
      "loaded 156\n",
      "loaded 157\n",
      "loaded 158\n",
      "loaded 159\n",
      "loaded 160\n",
      "loaded 161\n",
      "loaded 162\n",
      "loaded 163\n",
      "loaded 164\n",
      "loaded 165\n",
      "loaded 166\n",
      "loaded 167\n",
      "loaded 168\n",
      "loaded 169\n",
      "loaded 170\n",
      "loaded 171\n",
      "loaded 172\n",
      "loaded 173\n",
      "loaded 174\n",
      "loaded 175\n",
      "loaded 176\n",
      "loaded 177\n",
      "loaded 178\n",
      "loaded 179\n",
      "loaded 180\n",
      "loaded 181\n",
      "loaded 182\n",
      "loaded 183\n",
      "loaded 184\n",
      "loaded 185\n",
      "loaded 186\n",
      "loaded 187\n",
      "loaded 188\n",
      "loaded 189\n",
      "loaded 190\n",
      "loaded 191\n",
      "loaded 192\n",
      "loaded 193\n",
      "loaded 194\n",
      "loaded 195\n",
      "loaded 196\n",
      "loaded 197\n",
      "loaded 198\n",
      "loaded 199\n",
      "loaded 200\n"
     ]
    }
   ],
   "source": [
    "total = len(movies_entries)\n",
    "count = 0\n",
    "\n",
    "#first 200 rows\n",
    "for r in movies_entries[:200]:\n",
    "        gds.run_cypher('''\n",
    "        UNWIND $records AS record\n",
    "        MERGE (m:Movie {title: record.title})\n",
    "        ON CREATE SET m.releaseYear = record.releaseYear, m.tagline = record.tagline\n",
    "        MERGE (p:Person {name: record.name})\n",
    "        ON CREATE SET p.birthYear = record.birthYear\n",
    "        MERGE (p)-[r:ACTED_IN]->(m)\n",
    "        RETURN count(m) as cnt\n",
    "        ''', params={'records': [r]})\n",
    "        count += 1\n",
    "        print(f'loaded {count}')\n"
   ]
  },
  {
   "cell_type": "code",
   "execution_count": 18,
   "metadata": {},
   "outputs": [
    {
     "name": "stdout",
     "output_type": "stream",
     "text": [
      "           people.name\n",
      "0         Keanu Reeves\n",
      "1     Carrie-Anne Moss\n",
      "2   Laurence Fishburne\n",
      "3         Hugo Weaving\n",
      "4       Andy Wachowski\n",
      "..                 ...\n",
      "95        Emile Hirsch\n",
      "96        John Goodman\n",
      "97      Susan Sarandon\n",
      "98         Matthew Fox\n",
      "99     Christina Ricci\n",
      "\n",
      "[100 rows x 1 columns]\n"
     ]
    }
   ],
   "source": [
    "# result = gds.run_cypher('MATCH (n) RETURN n')\n",
    "result = gds.run_cypher('MATCH (people:Person) RETURN people.name LIMIT 100')\n",
    "print(result)"
   ]
  },
  {
   "cell_type": "code",
   "execution_count": 19,
   "metadata": {},
   "outputs": [
    {
     "name": "stdout",
     "output_type": "stream",
     "text": [
      "                          teens.title\n",
      "0        Sin City: A Dame to Kill For\n",
      "1             Guardians of the Galaxy\n",
      "2                            Non-Stop\n",
      "3                            Sex Tape\n",
      "4   A Million Ways to Die in the West\n",
      "5           Jack Ryan: Shadow Recruit\n",
      "6                      Need for Speed\n",
      "7                             Plastic\n",
      "8                           The Giver\n",
      "9                           Neighbors\n",
      "10                           Godzilla\n",
      "11                           Autómata\n",
      "12                    Life after Beth\n",
      "13                               7500\n",
      "14                   Edge of Tomorrow\n",
      "15                            Blended\n"
     ]
    }
   ],
   "source": [
    "#MATCH (nineties:Movie) WHERE nineties.released >= 1990 AND nineties.released < 2000 RETURN nineties.title\n",
    "result = gds.run_cypher(\"MATCH (teens:Movie) WHERE teens.releaseYear >= 2010 AND teens.releaseYear < 2020 RETURN teens.title\")\n",
    "print(result)"
   ]
  },
  {
   "cell_type": "markdown",
   "metadata": {},
   "source": [
    "## Verify if the Person node for Javier Bardem exists"
   ]
  },
  {
   "cell_type": "code",
   "execution_count": 20,
   "metadata": {},
   "outputs": [
    {
     "name": "stdout",
     "output_type": "stream",
     "text": [
      "     javier.name javierMovies.title\n",
      "0  Javier Bardem           Autómata\n"
     ]
    }
   ],
   "source": [
    "#MATCH (javier:Person {name: 'Javier Bardem'})-[:ACTED_IN]->(javierMovies) RETURN javier,javierMovies\n",
    "result = gds.run_cypher(\"MATCH (javier:Person {name: 'Javier Bardem'})-[:ACTED_IN]->(javierMovies) RETURN javier.name,javierMovies.title\")\n",
    "print(result)\n"
   ]
  },
  {
   "cell_type": "code",
   "execution_count": null,
   "metadata": {},
   "outputs": [],
   "source": []
  }
 ],
 "metadata": {
  "kernelspec": {
   "display_name": "3.11",
   "language": "python",
   "name": "python3"
  },
  "language_info": {
   "codemirror_mode": {
    "name": "ipython",
    "version": 3
   },
   "file_extension": ".py",
   "mimetype": "text/x-python",
   "name": "python",
   "nbconvert_exporter": "python",
   "pygments_lexer": "ipython3",
   "version": "3.11.8"
  }
 },
 "nbformat": 4,
 "nbformat_minor": 2
}
